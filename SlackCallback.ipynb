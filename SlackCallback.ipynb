{
 "cells": [
  {
   "cell_type": "code",
   "execution_count": 8,
   "metadata": {
    "ExecuteTime": {
     "end_time": "2018-06-01T09:18:01.709071Z",
     "start_time": "2018-06-01T09:18:01.313673Z"
    }
   },
   "outputs": [],
   "source": [
    "import keras\n",
    "import warnings\n",
    "\n",
    "import numpy as np\n",
    "\n",
    "import matplotlib.pyplot as plt\n",
    "\n",
    "from slackclient import SlackClient\n",
    "from io import BytesIO #to post matplotlib graphs to slack\n",
    "\n",
    "\n",
    "\n",
    "class SlackCallback(keras.callbacks.Callback):\n",
    "    def __init__(self, token, channel='#general', \n",
    "                 best_only=False, monitor='val_loss', \n",
    "                 mode='min',message='Epoch {epoch:03d} loss:{val_loss:.4f} val_loss:{val_loss:.4f}',\n",
    "                 model_description='Start of training',\n",
    "                 plot=['loss','val_loss']):\n",
    "        super(SlackCallback, self).__init__()\n",
    "        self.losses=[]\n",
    "        self.error=False\n",
    "        \n",
    "        self.token=token\n",
    "        self.channel=channel\n",
    "        self.best_only=best_only\n",
    "        \n",
    "        self.monitor=monitor\n",
    "        \n",
    "        self.model_description=model_description\n",
    "        \n",
    "        self.ts=None\n",
    "        self.message=message\n",
    "        \n",
    "        if mode=='min':\n",
    "            self.operation=np.less\n",
    "            self.best=np.Inf\n",
    "        if mode=='max':\n",
    "            self.operation=np.greater\n",
    "            self.best=-np.Inf\n",
    "        \n",
    "        self.best_logs={}\n",
    "        self.best_epoch=1\n",
    "        self.plot=plot or []\n",
    "    \n",
    "    def on_train_begin(self, logs={}):\n",
    "        #create new thread or should I move it to init? This would put all subsequent model trainings into a single thread\n",
    "        #or alternatively clear self.losses and start from the scratch every time the model is trained\n",
    "        response=self.send_message(self.model_description)\n",
    "        if response['ok']:\n",
    "            self.error=False\n",
    "            self.ts=response['ts']\n",
    "        else:\n",
    "            self.error=True\n",
    "            warnings.warn('Slack error:'+str(response))\n",
    "        \n",
    "\n",
    "    def on_epoch_end(self, epoch, logs={}):\n",
    "        #send message to the thread\n",
    "        self.losses.append(logs)\n",
    "        if self.best_only:\n",
    "            if self.operation(logs[self.monitor],self.best):\n",
    "                self.send_message(self.message.format(epoch=epoch+1,**logs))\n",
    "                self.best=logs[self.monitor]\n",
    "                self.best_logs=logs\n",
    "                self.best_epoch=epoch+1\n",
    "        else:        \n",
    "            self.send_message(self.message.format(epoch=epoch,**logs))\n",
    "\n",
    "    def on_train_end(self, logs=None):\n",
    "        #Report best results and plot losses\n",
    "        self.send_message('Best results:\\n'+self.message.format(epoch=self.best_epoch,**self.best_logs))\n",
    "        for p in self.plot:\n",
    "            plt.plot([log[p] for log in self.losses])\n",
    "            \n",
    "        out = BytesIO()\n",
    "        plt.savefig(fname=out,format='png')\n",
    "        out.seek(0)\n",
    "        response=self.send_image(filename='LearningCurve.png',image=out)\n",
    "        plt.show()\n",
    "            \n",
    "    def send_message(self,text,**kwargs):\n",
    "        try:\n",
    "            return self.send_slack_message(token=self.token,channel=self.channel,text=text, ts=self.ts,attachments=kwargs['attachments'])\n",
    "        except:\n",
    "            #print('No attachments')\n",
    "            #print(kwargs)\n",
    "            pass\n",
    "        if not self.error:\n",
    "            return self.send_slack_message(token=self.token,channel=self.channel,text=text, ts=self.ts,**kwargs)\n",
    "    \n",
    "    def send_image(self,filename, image):\n",
    "        if not self.error:\n",
    "            response=self.attach_slack_file(token=self.token,channel=self.channel, ts=self.ts,filename=filename,file=image)\n",
    "            if response['ok']:\n",
    "                attachments={'attachments':{'fallback':'Learning curves fallback','title':'Learning curves title','image_url':response['file']['url_private']}}\n",
    "                return self.send_slack_attachment(token=self.token,channel=self.channel,text='', ts=self.ts,attachments=attachments)\n",
    "\n",
    "        \n",
    "    def send_slack_message(self, token,channel, text,ts=None,**kwargs):\n",
    "        sc = SlackClient(token)\n",
    "        return sc.api_call(\"chat.postMessage\",channel=channel,text=text,thread_ts=ts,**kwargs)\n",
    "\n",
    "    def send_slack_attachment(self, token,channel, text,ts=None,attachments=None):\n",
    "        sc = SlackClient(token)\n",
    "        return sc.api_call(\"chat.postMessage\",channel=channel,text=text,thread_ts=ts,attacments=attachments)\n",
    "\n",
    "\n",
    "    def attach_slack_file(self, token,channel,ts, filename,file,**kwargs):\n",
    "        sc = SlackClient(token)\n",
    "        return sc.api_call('files.upload', channel=channel, as_user=True, thread_ts=ts, filename=filename, file=file,**kwargs)\n",
    "\n"
   ]
  },
  {
   "cell_type": "code",
   "execution_count": 15,
   "metadata": {
    "ExecuteTime": {
     "end_time": "2018-06-01T09:45:07.689304Z",
     "start_time": "2018-06-01T09:45:07.276827Z"
    }
   },
   "outputs": [
    {
     "name": "stdout",
     "output_type": "stream",
     "text": [
      "60000 train samples\n",
      "10000 test samples\n"
     ]
    }
   ],
   "source": [
    "'''Trains a simple deep NN on the MNIST dataset.\n",
    "\n",
    "Gets to 98.40% test accuracy after 20 epochs\n",
    "(there is *a lot* of margin for parameter tuning).\n",
    "2 seconds per epoch on a K520 GPU.\n",
    "'''\n",
    "\n",
    "from __future__ import print_function\n",
    "\n",
    "import keras\n",
    "from keras.datasets import mnist\n",
    "from keras.models import Sequential\n",
    "from keras.layers import Dense, Dropout\n",
    "from keras.optimizers import RMSprop\n",
    "\n",
    "batch_size = 128\n",
    "num_classes = 10\n",
    "epochs = 10\n",
    "\n",
    "# the data, shuffled and split between train and test sets\n",
    "(x_train, y_train), (x_test, y_test) = mnist.load_data()\n",
    "\n",
    "x_train = x_train.reshape(60000, 784)\n",
    "x_test = x_test.reshape(10000, 784)\n",
    "x_train = x_train.astype('float32')\n",
    "x_test = x_test.astype('float32')\n",
    "x_train /= 127.5-1.0\n",
    "x_test /= 127.5-1\n",
    "print(x_train.shape[0], 'train samples')\n",
    "print(x_test.shape[0], 'test samples')\n",
    "\n",
    "# convert class vectors to binary class matrices\n",
    "y_train = keras.utils.to_categorical(y_train, num_classes)\n",
    "y_test = keras.utils.to_categorical(y_test, num_classes)"
   ]
  },
  {
   "cell_type": "code",
   "execution_count": 16,
   "metadata": {
    "ExecuteTime": {
     "end_time": "2018-06-01T09:45:08.464265Z",
     "start_time": "2018-06-01T09:45:08.460260Z"
    }
   },
   "outputs": [],
   "source": [
    "#Assigning token directly in your code is a security flaw\n",
    "#I did it just for simplicity\n",
    "#Better use\n",
    "#http://python-slackclient.readthedocs.io/en/latest/auth.html#handling-tokens\n",
    "token='xoxp-your token'\n",
    "description='Mnist model MLP 512-RELU-DO0.2-512-RELU-DO0.2'\n",
    "message='Epoch {epoch:03d} loss:{val_loss:.4f} acc:{acc:.4f} val_loss:{val_loss:.4f} val_acc:{val_acc:.4f} '"
   ]
  },
  {
   "cell_type": "code",
   "execution_count": 17,
   "metadata": {
    "ExecuteTime": {
     "end_time": "2018-06-01T09:45:37.935331Z",
     "start_time": "2018-06-01T09:45:09.323770Z"
    }
   },
   "outputs": [
    {
     "name": "stdout",
     "output_type": "stream",
     "text": [
      "Train on 60000 samples, validate on 10000 samples\n",
      "Epoch 1/10\n",
      "60000/60000 [==============================] - 2s 38us/step - loss: 0.2857 - acc: 0.9120 - val_loss: 0.1297 - val_acc: 0.9610\n",
      "Epoch 2/10\n",
      "60000/60000 [==============================] - 2s 34us/step - loss: 0.1370 - acc: 0.9592 - val_loss: 0.0882 - val_acc: 0.9733\n",
      "Epoch 3/10\n",
      "60000/60000 [==============================] - 2s 34us/step - loss: 0.1061 - acc: 0.9687 - val_loss: 0.0821 - val_acc: 0.9754\n",
      "Epoch 4/10\n",
      "60000/60000 [==============================] - 2s 34us/step - loss: 0.0915 - acc: 0.9731 - val_loss: 0.0827 - val_acc: 0.9760\n",
      "Epoch 5/10\n",
      "60000/60000 [==============================] - 2s 34us/step - loss: 0.0812 - acc: 0.9772 - val_loss: 0.0731 - val_acc: 0.9809\n",
      "Epoch 6/10\n",
      "60000/60000 [==============================] - 2s 34us/step - loss: 0.0758 - acc: 0.9785 - val_loss: 0.0740 - val_acc: 0.9802\n",
      "Epoch 7/10\n",
      "60000/60000 [==============================] - 2s 34us/step - loss: 0.0728 - acc: 0.9797 - val_loss: 0.0736 - val_acc: 0.9819\n",
      "Epoch 8/10\n",
      "60000/60000 [==============================] - 2s 34us/step - loss: 0.0668 - acc: 0.9808 - val_loss: 0.0880 - val_acc: 0.9799\n",
      "Epoch 9/10\n",
      "60000/60000 [==============================] - 2s 34us/step - loss: 0.0656 - acc: 0.9819 - val_loss: 0.0811 - val_acc: 0.9818\n",
      "Epoch 10/10\n",
      "60000/60000 [==============================] - 2s 34us/step - loss: 0.0619 - acc: 0.9834 - val_loss: 0.0710 - val_acc: 0.9837\n"
     ]
    },
    {
     "data": {
      "image/png": "[encoded data removed]",
      "text/plain": [
       "<matplotlib.figure.Figure at 0x1682f005b38>"
      ]
     },
     "metadata": {},
     "output_type": "display_data"
    },
    {
     "name": "stdout",
     "output_type": "stream",
     "text": [
      "Test loss: 0.07095375152574589\n",
      "Test accuracy: 0.9837\n"
     ]
    }
   ],
   "source": [
    "model = Sequential()\n",
    "model.add(Dense(512, activation='relu', input_shape=(784,), kernel_initializer='he_normal'))\n",
    "model.add(Dropout(0.4))\n",
    "model.add(Dense(512, activation='relu', kernel_initializer='he_normal'))\n",
    "model.add(Dropout(0.2))\n",
    "model.add(Dense(num_classes, activation='softmax'))\n",
    "\n",
    "#model.summary()\n",
    "\n",
    "model.compile(loss='categorical_crossentropy',\n",
    "              optimizer=RMSprop(),\n",
    "              metrics=['accuracy'])\n",
    "\n",
    "\n",
    "slack=SlackCallback(token, channel='#general', model_description=description,mode='max', monitor='val_acc',message=message,best_only=True)\n",
    "history = model.fit(x_train, y_train,\n",
    "                    batch_size=batch_size,\n",
    "                    epochs=epochs,\n",
    "                    verbose=1,\n",
    "                    validation_data=(x_test, y_test),callbacks=[slack])\n",
    "score = model.evaluate(x_test, y_test, verbose=0)\n",
    "print('Test loss:', score[0])\n",
    "print('Test accuracy:', score[1])\n"
   ]
  },
  {
   "cell_type": "code",
   "execution_count": null,
   "metadata": {
    "collapsed": true
   },
   "outputs": [],
   "source": []
  }
 ],
 "metadata": {
  "kernelspec": {
   "display_name": "Python [default]",
   "language": "python",
   "name": "python3"
  },
  "language_info": {
   "codemirror_mode": {
    "name": "ipython",
    "version": 3
   },
   "file_extension": ".py",
   "mimetype": "text/x-python",
   "name": "python",
   "nbconvert_exporter": "python",
   "pygments_lexer": "ipython3",
   "version": "3.5.4"
  }
 },
 "nbformat": 4,
 "nbformat_minor": 2
}
